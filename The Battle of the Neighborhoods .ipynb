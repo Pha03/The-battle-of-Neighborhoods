{
 "cells": [
  {
   "cell_type": "markdown",
   "metadata": {},
   "source": [
    "# The Battle of the Neighborhoods - Week 1"
   ]
  },
  {
   "cell_type": "markdown",
   "metadata": {},
   "source": [
    "## Introduction and Business Problem"
   ]
  },
  {
   "cell_type": "markdown",
   "metadata": {},
   "source": [
    "### Discussion of Background"
   ]
  },
  {
   "cell_type": "markdown",
   "metadata": {},
   "source": [
    "New York city is the most populous city in the United States. With an estimated 2019 population of 8,336,817 distributed over about 302.6 square miles, New York City is also the most densely populated major city in the United States. Around 800 languages are spoken in New York City, making it the most linguistically diverse city in the world. New York City significantly influences commerce, entertainment, research, technology, education, politics, tourism, art, fashion, and sports.\n",
    "The city is multicultural as it is home to people from different parts of the world. Owing to this reason the cuisine of New York City comprises many cuisines belonging to various ethnic groups.\n",
    "\n",
    "New York is also home to many universities and a diverse population of skilled workers, meaning that while skilled labor is in high demand, there is a large pool of potential employees from which to recruit.\n",
    "\n",
    "Opportunities are plentiful and highly competitive. The cost of doing business will be higher, as goods and services are significantly steeper than elsewhere. Hence analyzing the business data helps to gain essential business insights, reduce risks and help make the right business decisions.\n"
   ]
  },
  {
   "cell_type": "markdown",
   "metadata": {},
   "source": [
    "### Problem Description"
   ]
  },
  {
   "cell_type": "markdown",
   "metadata": {},
   "source": [
    "New York city is home to some truly iconic foods mainly because it is a multicultural city. Almost all ethnic cuisines are well represented in New York. Data from the National Restaurant Association shows that there are almost 45,000 food establishments in New York City, so restaurant entrepreneurs can expect stiff competition. Several components will be considered and studied in order to find the right location. The following factors will be studied:\n",
    "\n",
    "1. Types of food and drinks sold\n",
    "2. New York City demographics\n",
    "3. Segmentation of the Borough\n",
    "4. Competitors"
   ]
  },
  {
   "cell_type": "markdown",
   "metadata": {},
   "source": [
    "### Target Audience"
   ]
  },
  {
   "cell_type": "markdown",
   "metadata": {},
   "source": [
    "Investors who would be interested to start a new restaurant in the New York City area. In this study we are assuming that the investors have done the cost of establishing and running the restaurant and other aspects like getting the permits and licenses, getting insurance etc.\n"
   ]
  },
  {
   "cell_type": "markdown",
   "metadata": {},
   "source": [
    "## Description of Data"
   ]
  },
  {
   "cell_type": "markdown",
   "metadata": {},
   "source": [
    "In this project we will be analyzing the New York City data and explore the neighborhoods.\n",
    "New York City is composed of five boroughs - Brooklyn, Queens, Manhattan, the Bronx, and Staten Island. There are hundreds of distict neighborhoods.\n",
    "New York City has a total of 5 boroughs and 306 neighborhoods. In order to segement the neighborhoods and explore them, we will essentially need a dataset that contains the 5 boroughs and the neighborhoods that exist in each borough as well as the the latitude and logitude coordinates of each neighborhood.\n",
    "\n",
    "Here is the link to the dataset:\n",
    "\n",
    "https://geo.nyu.edu/catalog/nyu_2451_34572\n",
    "\n",
    "To analyze the New York City demographics, Economy, Geography, the datasets will be taken from Wikipedia.\n",
    "\n",
    "https://en.wikipedia.org/wiki/New_York_City\n",
    "\n",
    "https://en.wikipedia.org/wiki/Cuisine_of_New_York_City\n",
    "\n",
    "https://en.wikipedia.org/wiki/Economy_of_New_York_City\n",
    "\n",
    "https://en.wikipedia.org/wiki/List_of_Michelin_starred_restaurants_in_New_York_City\n",
    "\n",
    "We will use Foursquare API to explore neighborhoods in New York City to get all the details needed for analyzing the location for the restaurant."
   ]
  },
  {
   "cell_type": "code",
   "execution_count": null,
   "metadata": {},
   "outputs": [],
   "source": []
  }
 ],
 "metadata": {
  "kernelspec": {
   "display_name": "Python 3",
   "language": "python",
   "name": "python3"
  },
  "language_info": {
   "codemirror_mode": {
    "name": "ipython",
    "version": 3
   },
   "file_extension": ".py",
   "mimetype": "text/x-python",
   "name": "python",
   "nbconvert_exporter": "python",
   "pygments_lexer": "ipython3",
   "version": "3.7.6"
  }
 },
 "nbformat": 4,
 "nbformat_minor": 4
}
